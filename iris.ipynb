{
 "cells": [
  {
   "cell_type": "code",
   "execution_count": null,
   "metadata": {
    "collapsed": true
   },
   "outputs": [],
   "source": [
    "import pandas as pd\n",
    "import matplotlib.pyplot as plt\n",
    "%matplotlib inline\n",
    "import seaborn as sns\n",
    "from sklearn import datasets"
   ]
  },
  {
   "cell_type": "code",
   "execution_count": null,
   "metadata": {
    "collapsed": false
   },
   "outputs": [],
   "source": [
    "iris = datasets.load_iris()\n",
    "X = iris.data\n",
    "from FLAME import FLAME\n",
    "clusterer = FLAME(cluster_neighbors=20, iteration_neighbors=20, verbose=0)\n",
    "clusterer = clusterer.fit(X)\n",
    "pred = clusterer.labels_\n",
    "df = pd.DataFrame(X, columns=iris.feature_names)\n",
    "df[\"pred\"] = pred\n",
    "df[\"true\"] = iris.target\n",
    "g = sns.pairplot(df, hue=\"pred\", size=5, plot_kws={\"marker\":\"+\",\"s\":10})\n",
    "\n",
    "xlabels,ylabels = [],[]\n",
    "\n",
    "for ax in g.axes[-1,:]:\n",
    "    xlabel = ax.xaxis.get_label_text()\n",
    "    xlabels.append(xlabel)\n",
    "for ax in g.axes[:,0]:\n",
    "    ylabel = ax.yaxis.get_label_text()\n",
    "    ylabels.append(ylabel)\n",
    "\n",
    "for i in range(len(xlabels)):\n",
    "    for j in range(len(ylabels)):\n",
    "        g.axes[j,i].xaxis.set_label_text(xlabels[i])\n",
    "        if i!=j:\n",
    "            g.axes[j,i].yaxis.set_label_text(ylabels[j])\n",
    "        else:\n",
    "            g.axes[j,i].yaxis.set_label_text(\"frequency\")\n",
    "plt.savefig(\"scatter_matrix.png\")"
   ]
  },
  {
   "cell_type": "code",
   "execution_count": null,
   "metadata": {
    "collapsed": false
   },
   "outputs": [],
   "source": [
    "probapd = pd.DataFrame(clusterer.membership_proba_, columns=[\"prob0\",\"prob1\",\"prob2\",\"prob-1\"])\n",
    "df = pd.concat([df, probapd], axis=1)"
   ]
  },
  {
   "cell_type": "code",
   "execution_count": null,
   "metadata": {
    "collapsed": false
   },
   "outputs": [],
   "source": [
    "df[df.pred != df.true]"
   ]
  },
  {
   "cell_type": "code",
   "execution_count": null,
   "metadata": {
    "collapsed": false
   },
   "outputs": [],
   "source": [
    "from sklearn.datasets.samples_generator import make_blobs\n",
    "X, Y = make_blobs(n_samples=250, centers=5, n_features=4, random_state=42)\n",
    "from FLAME import FLAME\n",
    "clusterer = FLAME(cluster_neighbors=20, iteration_neighbors=20, verbose=0, thd=-3)\n",
    "clusterer = clusterer.fit(X)\n",
    "pred = clusterer.labels_\n",
    "df = pd.DataFrame(X)\n",
    "df[\"pred\"] = pred\n",
    "df[\"true\"] = Y\n",
    "g = sns.pairplot(df, hue=\"pred\", size=5, plot_kws={\"marker\":\"+\",\"s\":10})\n",
    "\n",
    "xlabels,ylabels = [],[]\n",
    "\n",
    "for ax in g.axes[-1,:]:\n",
    "    xlabel = ax.xaxis.get_label_text()\n",
    "    xlabels.append(xlabel)\n",
    "for ax in g.axes[:,0]:\n",
    "    ylabel = ax.yaxis.get_label_text()\n",
    "    ylabels.append(ylabel)\n",
    "\n",
    "for i in range(len(xlabels)):\n",
    "    for j in range(len(ylabels)):\n",
    "        g.axes[j,i].xaxis.set_label_text(xlabels[i])\n",
    "        if i!=j:\n",
    "            g.axes[j,i].yaxis.set_label_text(ylabels[j])\n",
    "        else:\n",
    "            g.axes[j,i].yaxis.set_label_text(\"frequency\")\n",
    "plt.savefig(\"scatter_matrix_blobs.png\")"
   ]
  }
 ],
 "metadata": {
  "kernelspec": {
   "display_name": "Python 2",
   "language": "python",
   "name": "python2"
  },
  "language_info": {
   "codemirror_mode": {
    "name": "ipython",
    "version": 2.0
   },
   "file_extension": ".py",
   "mimetype": "text/x-python",
   "name": "python",
   "nbconvert_exporter": "python",
   "pygments_lexer": "ipython2",
   "version": "2.7.13"
  }
 },
 "nbformat": 4,
 "nbformat_minor": 0
}